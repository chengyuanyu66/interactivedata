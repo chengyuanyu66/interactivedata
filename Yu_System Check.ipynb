{
 "cells": [
  {
   "cell_type": "code",
   "execution_count": 1,
   "id": "be79bd14-85c8-41e1-a3da-693d0597ae7a",
   "metadata": {},
   "outputs": [
    {
     "data": {
      "text/plain": [
       "8"
      ]
     },
     "execution_count": 1,
     "metadata": {},
     "output_type": "execute_result"
    }
   ],
   "source": [
    "3+5"
   ]
  },
  {
   "cell_type": "markdown",
   "id": "c58c2021-690a-4a4b-9ebe-8c197fbf7072",
   "metadata": {},
   "source": [
    "# I can code!\n",
    "## somewhat\n",
    "**This texts is bold.**"
   ]
  },
  {
   "cell_type": "markdown",
   "id": "661d9db9-1ab8-4b3e-bc04-53ad46b3ed09",
   "metadata": {},
   "source": [
    "[Link](https://scholar.google.com)"
   ]
  },
  {
   "cell_type": "code",
   "execution_count": 2,
   "id": "4838be7a-0881-4c97-b770-cbebdffd47e9",
   "metadata": {},
   "outputs": [],
   "source": [
    "x = 5"
   ]
  },
  {
   "cell_type": "code",
   "execution_count": 3,
   "id": "8c110e43-a2a7-43ed-b763-dbc4f64f6507",
   "metadata": {},
   "outputs": [
    {
     "data": {
      "text/plain": [
       "5"
      ]
     },
     "execution_count": 3,
     "metadata": {},
     "output_type": "execute_result"
    }
   ],
   "source": [
    "x"
   ]
  },
  {
   "cell_type": "code",
   "execution_count": 4,
   "id": "1318dd62-646c-4ca9-9ca3-a344c4e36724",
   "metadata": {},
   "outputs": [
    {
     "name": "stdout",
     "output_type": "stream",
     "text": [
      "5\n"
     ]
    }
   ],
   "source": [
    "print(x)"
   ]
  },
  {
   "cell_type": "code",
   "execution_count": 5,
   "id": "fdecf65d-328a-4ae0-b251-c8c8cc78e4fc",
   "metadata": {},
   "outputs": [
    {
     "name": "stdout",
     "output_type": "stream",
     "text": [
      "1\n",
      "2\n",
      "3\n",
      "4\n",
      "5\n"
     ]
    }
   ],
   "source": [
    "for i in [1,2,3,4]:\n",
    "    print(i)\n",
    "\n",
    "for i in [x]:\n",
    "    print(i)"
   ]
  },
  {
   "cell_type": "code",
   "execution_count": 12,
   "id": "e1c4eca5-c0f1-4144-93ef-91d0148b6bae",
   "metadata": {},
   "outputs": [],
   "source": [
    "def say_hello(x):\n",
    "    print(\"Hello \" + str(x) + \"!\")"
   ]
  },
  {
   "cell_type": "code",
   "execution_count": 13,
   "id": "b900ed44-1cf3-4595-946f-167989d7f172",
   "metadata": {},
   "outputs": [
    {
     "name": "stdout",
     "output_type": "stream",
     "text": [
      "Hello Chengyuan!\n"
     ]
    }
   ],
   "source": [
    "say_hello(\"Chengyuan\")"
   ]
  },
  {
   "cell_type": "code",
   "execution_count": 16,
   "id": "ec4d6254-7958-4d5b-a42f-1752d46989a3",
   "metadata": {},
   "outputs": [],
   "source": [
    "def return_hello(x):\n",
    "    y = \"Hello \" + x + \"!\"\n",
    "    return y"
   ]
  },
  {
   "cell_type": "code",
   "execution_count": 17,
   "id": "c1a48712-9b28-4a31-b3eb-6cf6accdb458",
   "metadata": {},
   "outputs": [],
   "source": [
    "greetings = return_hello(\"Chengyuan\")"
   ]
  },
  {
   "cell_type": "code",
   "execution_count": 18,
   "id": "8e362cd8-3645-4dd5-99a3-a3c843bcb865",
   "metadata": {},
   "outputs": [
    {
     "data": {
      "text/plain": [
       "'Hello Chengyuan!'"
      ]
     },
     "execution_count": 18,
     "metadata": {},
     "output_type": "execute_result"
    }
   ],
   "source": [
    "greetings"
   ]
  },
  {
   "cell_type": "code",
   "execution_count": null,
   "id": "76648083-bd47-412f-90c9-3c7059ee11f2",
   "metadata": {},
   "outputs": [],
   "source": []
  }
 ],
 "metadata": {
  "kernelspec": {
   "display_name": "Python 3 (ipykernel)",
   "language": "python",
   "name": "python3"
  },
  "language_info": {
   "codemirror_mode": {
    "name": "ipython",
    "version": 3
   },
   "file_extension": ".py",
   "mimetype": "text/x-python",
   "name": "python",
   "nbconvert_exporter": "python",
   "pygments_lexer": "ipython3",
   "version": "3.12.1"
  }
 },
 "nbformat": 4,
 "nbformat_minor": 5
}
