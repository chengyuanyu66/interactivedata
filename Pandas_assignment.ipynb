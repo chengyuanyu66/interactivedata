{
 "cells": [
  {
   "cell_type": "markdown",
   "id": "8b605870-16ab-4f17-9142-3d18b5f83c21",
   "metadata": {},
   "source": [
    "2. Import pandas as pd and create a new DataFrame with three columns and three rows"
   ]
  },
  {
   "cell_type": "code",
   "execution_count": 8,
   "id": "7103172b-4c3f-4393-b113-0bea9e3cd3a9",
   "metadata": {},
   "outputs": [],
   "source": [
    "import pandas as pd"
   ]
  },
  {
   "cell_type": "code",
   "execution_count": 9,
   "id": "a9f81e3e-230f-4dc3-905c-bf038c415272",
   "metadata": {},
   "outputs": [],
   "source": [
    "data = {'a':[3,5,2],'b':[1,4,3],'c':[5,4,3]}"
   ]
  },
  {
   "cell_type": "code",
   "execution_count": 10,
   "id": "5e5a59b6-6279-4a0d-92fa-ce6ca0034323",
   "metadata": {},
   "outputs": [
    {
     "name": "stdout",
     "output_type": "stream",
     "text": [
      "   a  b  c\n",
      "0  3  1  5\n",
      "1  5  4  4\n",
      "2  2  3  3\n"
     ]
    }
   ],
   "source": [
    "df = pd.DataFrame(data)\n",
    "print(df)"
   ]
  },
  {
   "cell_type": "markdown",
   "id": "36db17de-c0a7-44a7-ac3e-9b6d09b6a03b",
   "metadata": {},
   "source": [
    "3. View the head of the DataFrame"
   ]
  },
  {
   "cell_type": "code",
   "execution_count": 14,
   "id": "af2d3aac-b52f-4b8a-82c4-18fb80e82e3a",
   "metadata": {},
   "outputs": [
    {
     "data": {
      "text/html": [
       "<div>\n",
       "<style scoped>\n",
       "    .dataframe tbody tr th:only-of-type {\n",
       "        vertical-align: middle;\n",
       "    }\n",
       "\n",
       "    .dataframe tbody tr th {\n",
       "        vertical-align: top;\n",
       "    }\n",
       "\n",
       "    .dataframe thead th {\n",
       "        text-align: right;\n",
       "    }\n",
       "</style>\n",
       "<table border=\"1\" class=\"dataframe\">\n",
       "  <thead>\n",
       "    <tr style=\"text-align: right;\">\n",
       "      <th></th>\n",
       "      <th>a</th>\n",
       "      <th>b</th>\n",
       "      <th>c</th>\n",
       "    </tr>\n",
       "  </thead>\n",
       "  <tbody>\n",
       "  </tbody>\n",
       "</table>\n",
       "</div>"
      ],
      "text/plain": [
       "Empty DataFrame\n",
       "Columns: [a, b, c]\n",
       "Index: []"
      ]
     },
     "execution_count": 14,
     "metadata": {},
     "output_type": "execute_result"
    }
   ],
   "source": [
    "df.head(0)"
   ]
  },
  {
   "cell_type": "markdown",
   "id": "e3011af9-ab63-4296-8fa4-476622d00bdc",
   "metadata": {},
   "source": [
    "4. View the index of the DataFrame"
   ]
  },
  {
   "cell_type": "code",
   "execution_count": 48,
   "id": "10933cd4-a3f2-4862-8b89-0144b92053e0",
   "metadata": {},
   "outputs": [
    {
     "data": {
      "text/plain": [
       "RangeIndex(start=0, stop=3, step=1)"
      ]
     },
     "execution_count": 48,
     "metadata": {},
     "output_type": "execute_result"
    }
   ],
   "source": [
    "df.index"
   ]
  },
  {
   "cell_type": "markdown",
   "id": "509c0b7f-28a5-4372-9dd9-64a6bff5999d",
   "metadata": {},
   "source": [
    "5. Select and view the first column of the DataFrame"
   ]
  },
  {
   "cell_type": "code",
   "execution_count": 49,
   "id": "057bb6cb-dfd5-4106-9ced-13576bff0261",
   "metadata": {},
   "outputs": [
    {
     "data": {
      "text/plain": [
       "0    3\n",
       "1    5\n",
       "2    2\n",
       "Name: a, dtype: int64"
      ]
     },
     "execution_count": 49,
     "metadata": {},
     "output_type": "execute_result"
    }
   ],
   "source": [
    "df['a']"
   ]
  },
  {
   "cell_type": "markdown",
   "id": "5a679814-1576-494b-a738-f70cdc40a047",
   "metadata": {},
   "source": [
    "6. Select and view the first row of the DataFrame"
   ]
  },
  {
   "cell_type": "code",
   "execution_count": 50,
   "id": "1855d2a1-53c8-4f62-b289-13f2f0595eba",
   "metadata": {},
   "outputs": [
    {
     "data": {
      "text/plain": [
       "a    3\n",
       "b    1\n",
       "c    5\n",
       "Name: 0, dtype: int64"
      ]
     },
     "execution_count": 50,
     "metadata": {},
     "output_type": "execute_result"
    }
   ],
   "source": [
    "df.iloc[0]"
   ]
  },
  {
   "cell_type": "markdown",
   "id": "3379bcb6-91dd-4c7a-b9e1-f8402ddae202",
   "metadata": {},
   "source": [
    "7. Write the DataFrame to a new CSV file saved in your assignment folder"
   ]
  },
  {
   "cell_type": "code",
   "execution_count": 51,
   "id": "fd49b0c5-715a-45ec-a4de-15b3e9d7ab71",
   "metadata": {},
   "outputs": [],
   "source": [
    "data_pandas = df"
   ]
  },
  {
   "cell_type": "code",
   "execution_count": 52,
   "id": "7be392bf-56d9-4e37-bd03-062440e069ef",
   "metadata": {},
   "outputs": [],
   "source": [
    "data_pandas.to_csv('data.pandas')"
   ]
  },
  {
   "cell_type": "code",
   "execution_count": 53,
   "id": "592e38c2-c1dd-4568-8b87-2c390825e93a",
   "metadata": {},
   "outputs": [
    {
     "name": "stdout",
     "output_type": "stream",
     "text": [
      "Pandas.ipynb                  data.pandas\n",
      "Yu_System Check.ipynb         pandas Challenge.ipynb\n",
      "cces_example_data.csv         subset_cces_example_data.csv\n"
     ]
    }
   ],
   "source": [
    "ls"
   ]
  },
  {
   "cell_type": "markdown",
   "id": "598a8532-bd17-417d-a042-39a3ac6d0836",
   "metadata": {},
   "source": [
    "8. In a Markdown cell, answer this question based on the content from Murray (2017) Chapter 1:\n",
    "Why are dynamic, interactive data visualizations useful when communicating data?\n",
    "My answer: Dynamic, interactive data visualizations can provide people opportunties to explore the data visualizations according to their own needs and interests. Users can overview first to get a general idea of the data, and then zoom and filter to get more details. "
   ]
  }
 ],
 "metadata": {
  "kernelspec": {
   "display_name": "Python 3 (ipykernel)",
   "language": "python",
   "name": "python3"
  },
  "language_info": {
   "codemirror_mode": {
    "name": "ipython",
    "version": 3
   },
   "file_extension": ".py",
   "mimetype": "text/x-python",
   "name": "python",
   "nbconvert_exporter": "python",
   "pygments_lexer": "ipython3",
   "version": "3.11.5"
  }
 },
 "nbformat": 4,
 "nbformat_minor": 5
}
